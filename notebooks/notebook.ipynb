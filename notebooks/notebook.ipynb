{
 "cells": [
  {
   "cell_type": "code",
   "execution_count": null,
   "metadata": {},
   "outputs": [],
   "source": [
    "from databricks.sdk import WorkspaceClient\n",
    "w = WorkspaceClient()\n",
    "\n",
    "try: \n",
    "    # Get current job ID\n",
    "    current_job_id = dbutils.notebook.entry_point.getDbutils().notebook().getContext().jobId().get()\n",
    "\n",
    "    # Get job name using the ID\n",
    "    job = w.jobs.get(current_job_id)\n",
    "    job_name = job.settings.name\n",
    "\n",
    "    print(f\"Current Job Name: {job_name}.\")\n",
    "\n",
    "except:\n",
    "    # Finish here is running this notebook independently\n",
    "    print(f\"Not running as part of a job.\")"
   ]
  },
  {
   "cell_type": "code",
   "execution_count": null,
   "metadata": {},
   "outputs": [],
   "source": [
    "# if the job_name variable got created do the job correspondent job exit\n",
    "if 'job_name' in locals():\n",
    "    # exit job forcing an error if running under specific job\n",
    "    if 'conditional_dependency_task_serverless_job' not in job_name:\n",
    "        dbutils.notebook.exit(f\"{job_name = } successful!\")\n",
    "    else:\n",
    "        print('I am mimicking an error')\n",
    "        dbutils.notebook.exit()"
   ]
  }
 ],
 "metadata": {
  "application/vnd.databricks.v1+notebook": {
   "dashboards": [],
   "language": "python",
   "notebookMetadata": {
    "pythonIndentUnit": 2
   },
   "notebookName": "notebook",
   "widgets": {}
  },
  "kernelspec": {
   "display_name": "Python 3",
   "language": "python",
   "name": "python3"
  },
  "language_info": {
   "codemirror_mode": {
    "name": "ipython",
    "version": 3
   },
   "file_extension": ".py",
   "mimetype": "text/x-python",
   "name": "python",
   "nbconvert_exporter": "python",
   "pygments_lexer": "ipython3",
   "version": "3.9.6"
  }
 },
 "nbformat": 4,
 "nbformat_minor": 0
}
