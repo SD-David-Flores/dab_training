{
 "cells": [
  {
   "cell_type": "markdown",
   "metadata": {},
   "source": [
    "# Create environment for raw table\n",
    "This notebooks creates the following:\n",
    "* The Schema for the table if it doesn't exist\n",
    "* A Volume for the auto-loader checkpoints"
   ]
  },
  {
   "cell_type": "code",
   "execution_count": null,
   "metadata": {},
   "outputs": [],
   "source": [
    "# First get vars from widgets\n",
    "var = {\n",
    "    'catalog': dbutils.widgets.get(\"catalog\"),\n",
    "    'schema': dbutils.widgets.get(\"schema\"),\n",
    "    'table': dbutils.widgets.get(\"table\"),\n",
    "}\n",
    "# Now set vars from constants\n",
    "var.update({\n",
    "    'checkpoint_name': f\"{var['table']}_checkpoints\",\n",
    "    'checkpoint_path': f\"/Volumes/{var['catalog']}/{var['schema']}/{var['table']}_checkpoints\",\n",
    "    'file_path': f\"/Volumes/{var['catalog']}/{var['schema']}/{var['table']}_collect/*/*\",\n",
    "    'full_table_name': f\"{var['catalog']}.{var['schema']}.brz_{var['table']}\"\n",
    "})\n",
    "\n",
    "for key in [*var]:\n",
    "    print(f\"{key}: {var[key]}\")"
   ]
  },
  {
   "cell_type": "code",
   "execution_count": null,
   "metadata": {},
   "outputs": [],
   "source": [
    "queries = [\n",
    "    f\"USE CATALOG {var['catalog']};\",\n",
    "    f\"CREATE SCHEMA IF NOT EXISTS {var['schema']};\",\n",
    "    f\"CREATE VOLUME IF NOT EXISTS {var['schema']}.{var['checkpoint_name']};\"\n",
    "]\n",
    "\n",
    "for query in queries:\n",
    "    print(query)\n",
    "    spark.sql(query)"
   ]
  },
  {
   "cell_type": "code",
   "execution_count": null,
   "metadata": {},
   "outputs": [],
   "source": [
    "# Here I set the task parameters to share downstream\n",
    "task_keys = [\n",
    "    'checkpoint_path',\n",
    "    'file_path',\n",
    "    'full_table_name'\n",
    "]\n",
    "\n",
    "for key in task_keys:\n",
    "    dbutils.jobs.taskValues.set(key=key, value=var[key])"
   ]
  }
 ],
 "metadata": {
  "kernelspec": {
   "display_name": ".venv",
   "language": "python",
   "name": "python3"
  },
  "language_info": {
   "name": "python",
   "version": "3.11.11"
  }
 },
 "nbformat": 4,
 "nbformat_minor": 2
}
